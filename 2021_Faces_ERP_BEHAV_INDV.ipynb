{
  "nbformat": 4,
  "nbformat_minor": 0,
  "metadata": {
    "colab": {
      "name": "2021_Faces_ERP_BEHAV_INDV.ipynb",
      "provenance": [],
      "collapsed_sections": [],
      "include_colab_link": true
    },
    "kernelspec": {
      "name": "python3",
      "display_name": "Python 3"
    },
    "language_info": {
      "name": "python"
    }
  },
  "cells": [
    {
      "cell_type": "markdown",
      "metadata": {
        "id": "view-in-github",
        "colab_type": "text"
      },
      "source": [
        "<a href=\"https://colab.research.google.com/github/gringotts0324/Psychology_data_analysis/blob/main/2021_Faces_ERP_BEHAV_INDV.ipynb\" target=\"_parent\"><img src=\"https://colab.research.google.com/assets/colab-badge.svg\" alt=\"Open In Colab\"/></a>"
      ]
    },
    {
      "cell_type": "code",
      "metadata": {
        "colab": {
          "base_uri": "https://localhost:8080/",
          "height": 745
        },
        "id": "tQ0SNXCW7bfT",
        "outputId": "79859218-84c9-4de9-bd5a-1eed13387f70"
      },
      "source": [
        "####Behavior####\n",
        "\n",
        "###goals\n",
        "#1. input: csv file name\n",
        "#2. main output: table and graph of acuracy and reaction time (for each participant) \n",
        "#3. sub output: \n",
        "\n",
        "###reference (matplot lib)\n",
        "###https://note-tech.com/show-multi-graph/\n",
        "###https://biotech-lab.org/articles/2032 (matplot lib multiple graphs)\n",
        "\n",
        "\n",
        "###import modules\n",
        "import pandas as pd\n",
        "import numpy as np\n",
        "import matplotlib.pyplot as plt\n",
        "\n",
        "###setting variables\n",
        "#csv_name = input(\"csv file name?\") + \".csv\"\n",
        "csv_name = \"s102_kei.csv\"\n",
        "list_name = \"faces\"\n",
        "conditions = [0, 1, 2, 3]\n",
        "\n",
        "###setting variables of data frame (E-prime general)\n",
        "sub = \"Subject\"\n",
        "RESP = list_name + \".RESP\"\n",
        "ACC = \"\"\n",
        "RT = list_name + \".RT\"\n",
        "CRESP = list_name + \".CRESP\"\n",
        "\n",
        "\n",
        "###setting variables of graph\n",
        "fontsize = 20\n",
        "bar_color = \"#888\"\n",
        "a_x = 0.15\n",
        "a_y = 1.05\n",
        "\n",
        "###data\n",
        "df = pd.read_csv(csv_name)\n",
        "\n",
        "\n",
        "###preprocessing \n",
        "  ## numpy.where(condition, x, y*) ... if the condition is fullfilled, replace elements with x, if not, with y (*optional)\n",
        "df[RESP] = np.where(df[RESP] == 3, 3, 0)\n",
        "df[\"correct_res\"] = np.where(df[\"faces\"] == \"No\", 3, 0)\n",
        "df[\"ACC\"] = np.where(df[\"correct_res\"] == df[RESP], 1, 0)\n",
        "\n",
        "\n",
        "##the number of subjects\n",
        "subjects = df[sub].unique()\n",
        "\n",
        "\n",
        "##empty DataFrame (hit, false alarm, response time)\n",
        "df_hit_acc = pd.DataFrame(\n",
        "    index = [],\n",
        "    columns = []\n",
        ")\n",
        "\n",
        "df_fa_acc = pd.DataFrame(\n",
        "    index = [],\n",
        "    columns = [conditions]\n",
        ")\n",
        "\n",
        "df_rt = pd.DataFrame(\n",
        "    index = [],\n",
        "    columns = []\n",
        ")\n",
        "\n",
        "##loop\n",
        "for subject in subjects:\n",
        "  df_indv = df[df[sub] == subject]\n",
        "\n",
        "  hit_acc_list = []\n",
        "  fa_rate_list = []\n",
        "  rt_list = []\n",
        "\n",
        "  df_target = df_indv[df_indv[\"faces\"] == \"No\"]\n",
        "  hit_acc = df_target[\"ACC\"].mean()  \n",
        "\n",
        "  df_correct = df_target[df_target[\"ACC\"] == 1]\n",
        "  rt_hit_raw = df_correct[RT].mean()\n",
        "  rt_hit = np.around(rt_hit_raw, decimals = 2)\n",
        "\n",
        "  ##append list\n",
        "  hit_acc_list.append(hit_acc)\n",
        "  rt_list.append(rt_hit)\n",
        "\n",
        "  for condition in conditions:\n",
        "    df_cond = df_indv[df_indv[\"smile\"] == condition]\n",
        "\n",
        "    df_nontarget = df_cond[df_cond[\"faces\"] == \"Yes\"]\n",
        "    fa = df_nontarget[\"ACC\"].mean()\n",
        "    fa_rate = np.around(1 - fa, decimals = 2) \n",
        "    ##append list\n",
        "    fa_rate_list.append(fa_rate)\n",
        "\n",
        "\n",
        "  ind_hit_acc = pd.Series(hit_acc_list, index = [\"Hit\"], name = subject)\n",
        "  df_hit_ACCresult = df_hit_acc.append(ind_hit_acc)\n",
        "\n",
        "  ind_fa_acc = pd.Series(fa_rate_list, index = [conditions], name = subject)\n",
        "  df_fa_ACCresult = df_fa_acc.append(ind_fa_acc)\n",
        "\n",
        "  ind_rt = pd.Series(rt_list, index = [\"RT\"], name = subject)\n",
        "  df_RTresult = df_rt.append(ind_rt)\n",
        "  \n",
        "\n",
        "  ##graph\n",
        "  left = [1, 2, 3, 4]\n",
        "  fig = plt.figure(figsize=[5, 5])\n",
        "  ax2 = fig.add_subplot(1, 1, 1)\n",
        "\n",
        "  \"\"\"\n",
        "  ax1.bar(left, hit_acc_list, color = bar_color)\n",
        "  ax1.set_ylim(0,1)\n",
        "\n",
        "  ax1.set_xlabel(\"Number of smiling faces\", size = fontsize, labelpad = 6)\n",
        "  ax1.set_xticks([1, 2, 3, 4])\n",
        "  ax1.set_xticklabels([0, 1, 2, 3], fontsize = fontsize)\n",
        "  ax1.set_ylabel(\"Accuracy\", size = fontsize, labelpad = 6)\n",
        "  ax1.set_yticklabels([0.0, 0.2, 0.4, 0.6, 0.8, 1.0], fontsize = fontsize)\n",
        "  \"\"\"\n",
        "  #####\n",
        "  ax2 = fig.add_subplot(1, 1, 1)\n",
        "  ax2.bar(left, fa_rate_list, color = bar_color)\n",
        "  ax2.set_ylim(0,1)\n",
        "\n",
        "  ax2.set_xlabel(\"Number of smiling faces\", size = fontsize, labelpad = 6)\n",
        "  ax2.set_xticks([1, 2, 3, 4])\n",
        "  ax2.set_xticklabels([0, 1, 2, 3], fontsize = fontsize)\n",
        "  ax2.set_xticks([1, 2, 3, 4])\n",
        "  ax2.set_ylabel(\"FA rate\", size = fontsize, labelpad = 6)\n",
        "  ax2.set_yticklabels([0.0, 0.2, 0.4, 0.6, 0.8, 1.0], fontsize = fontsize)\n",
        "  \"\"\"\n",
        "  #####\n",
        "  ax3 = fig.add_subplot(1, 3, 3)\n",
        "  ax3.bar(left, rt_list, color = bar_color)\n",
        "  ax3.set_ylim(0,800)\n",
        "\n",
        "  ax3.set_xlabel(\"Number of smiling faces\", size = fontsize, labelpad = 6)\n",
        "  ax3.set_xticks([1, 2, 3, 4])\n",
        "  ax3.set_xticklabels([0, 1, 2, 3], fontsize = fontsize)\n",
        "  ax3.set_ylabel(\"Response time (ms)\", size = fontsize, labelpad = 6)\n",
        "  ax3.set_yticklabels([0, 100, 200, 300, 400, 500, 600, 700, 800], fontsize = fontsize)\n",
        "  \"\"\"\n",
        "  #枠線消し\n",
        "  axes = [ax2]\n",
        "\n",
        "  for i in axes:\n",
        "    i.spines[\"right\"].set_visible(False)\n",
        "    i.spines[\"top\"].set_visible(False)\n",
        "\n",
        "  ##グラフ（ax）タイトル\n",
        "  #ax1.set_title(\"Hit rate\", x= a_x, y=a_y, fontsize = fontsize+3)\n",
        "  #ax2.set_title(\"False Alarm rate\", x= a_x, y=a_y, fontsize = fontsize+3)\n",
        "  #ax3.set_title(\"RT (Hit)\", x= a_x, y=a_y, fontsize = fontsize+3)\n",
        "\n",
        "  ###show\n",
        "  plt.tight_layout()\n",
        "  plt.show()\n",
        "  #plt.savefig(\"Behavior.png\", format =\"png\", dpi = 600, bbox_inches = \"tight\")\n",
        "\n",
        "\n",
        "\n",
        "###table\n",
        "print()\n",
        "print(\"Hit rate\")\n",
        "display(df_hit_ACCresult)\n",
        "print()\n",
        "print(\"RT (Hit)\")\n",
        "display(df_RTresult)\n",
        "print()\n",
        "print(\"False alarm rate\")\n",
        "display(df_fa_ACCresult)\n",
        "\n",
        "###export csv \n",
        "#df.to_csv(\"data.csv\")\n",
        "\"\"\"\n",
        "df_hit_ACCresult.to_csv(\"Hit_result.csv\")\n",
        "df_fa_ACCresult.to_csv(\"FA_result.csv\")\n",
        "df_RTresult.to_csv(\"RT_result.csv\")\n",
        "\"\"\""
      ],
      "execution_count": 23,
      "outputs": [
        {
          "output_type": "stream",
          "name": "stderr",
          "text": [
            "/usr/local/lib/python3.7/dist-packages/ipykernel_launcher.py:124: MatplotlibDeprecationWarning: Adding an axes using the same arguments as a previous axes currently reuses the earlier instance.  In a future version, a new instance will always be created and returned.  Meanwhile, this warning can be suppressed, and the future behavior ensured, by passing a unique label to each axes instance.\n"
          ]
        },
        {
          "output_type": "display_data",
          "data": {
            "image/png": "[encoded data removed]",
            "text/plain": [
              "<Figure size 360x360 with 1 Axes>"
            ]
          },
          "metadata": {
            "needs_background": "light"
          }
        },
        {
          "output_type": "stream",
          "name": "stdout",
          "text": [
            "\n",
            "Hit rate\n"
          ]
        },
        {
          "output_type": "display_data",
          "data": {
            "text/html": [
              "<div>\n",
              "<style scoped>\n",
              "    .dataframe tbody tr th:only-of-type {\n",
              "        vertical-align: middle;\n",
              "    }\n",
              "\n",
              "    .dataframe tbody tr th {\n",
              "        vertical-align: top;\n",
              "    }\n",
              "\n",
              "    .dataframe thead th {\n",
              "        text-align: right;\n",
              "    }\n",
              "</style>\n",
              "<table border=\"1\" class=\"dataframe\">\n",
              "  <thead>\n",
              "    <tr style=\"text-align: right;\">\n",
              "      <th></th>\n",
              "      <th>Hit</th>\n",
              "    </tr>\n",
              "  </thead>\n",
              "  <tbody>\n",
              "    <tr>\n",
              "      <th>102</th>\n",
              "      <td>1.0</td>\n",
              "    </tr>\n",
              "  </tbody>\n",
              "</table>\n",
              "</div>"
            ],
            "text/plain": [
              "     Hit\n",
              "102  1.0"
            ]
          },
          "metadata": {}
        },
        {
          "output_type": "stream",
          "name": "stdout",
          "text": [
            "\n",
            "RT (Hit)\n"
          ]
        },
        {
          "output_type": "display_data",
          "data": {
            "text/html": [
              "<div>\n",
              "<style scoped>\n",
              "    .dataframe tbody tr th:only-of-type {\n",
              "        vertical-align: middle;\n",
              "    }\n",
              "\n",
              "    .dataframe tbody tr th {\n",
              "        vertical-align: top;\n",
              "    }\n",
              "\n",
              "    .dataframe thead th {\n",
              "        text-align: right;\n",
              "    }\n",
              "</style>\n",
              "<table border=\"1\" class=\"dataframe\">\n",
              "  <thead>\n",
              "    <tr style=\"text-align: right;\">\n",
              "      <th></th>\n",
              "      <th>RT</th>\n",
              "    </tr>\n",
              "  </thead>\n",
              "  <tbody>\n",
              "    <tr>\n",
              "      <th>102</th>\n",
              "      <td>396.32</td>\n",
              "    </tr>\n",
              "  </tbody>\n",
              "</table>\n",
              "</div>"
            ],
            "text/plain": [
              "         RT\n",
              "102  396.32"
            ]
          },
          "metadata": {}
        },
        {
          "output_type": "stream",
          "name": "stdout",
          "text": [
            "\n",
            "False alarm rate\n"
          ]
        },
        {
          "output_type": "display_data",
          "data": {
            "text/html": [
              "<div>\n",
              "<style scoped>\n",
              "    .dataframe tbody tr th:only-of-type {\n",
              "        vertical-align: middle;\n",
              "    }\n",
              "\n",
              "    .dataframe tbody tr th {\n",
              "        vertical-align: top;\n",
              "    }\n",
              "\n",
              "    .dataframe thead tr th {\n",
              "        text-align: left;\n",
              "    }\n",
              "</style>\n",
              "<table border=\"1\" class=\"dataframe\">\n",
              "  <thead>\n",
              "    <tr>\n",
              "      <th></th>\n",
              "      <th>0</th>\n",
              "      <th>1</th>\n",
              "      <th>2</th>\n",
              "      <th>3</th>\n",
              "    </tr>\n",
              "  </thead>\n",
              "  <tbody>\n",
              "    <tr>\n",
              "      <th>102</th>\n",
              "      <td>0.01</td>\n",
              "      <td>0.0</td>\n",
              "      <td>0.0</td>\n",
              "      <td>0.0</td>\n",
              "    </tr>\n",
              "  </tbody>\n",
              "</table>\n",
              "</div>"
            ],
            "text/plain": [
              "        0    1    2    3\n",
              "102  0.01  0.0  0.0  0.0"
            ]
          },
          "metadata": {}
        },
        {
          "output_type": "execute_result",
          "data": {
            "application/vnd.google.colaboratory.intrinsic+json": {
              "type": "string"
            },
            "text/plain": [
              "'\\ndf_hit_ACCresult.to_csv(\"Hit_result.csv\")\\ndf_fa_ACCresult.to_csv(\"FA_result.csv\")\\ndf_RTresult.to_csv(\"RT_result.csv\")\\n'"
            ]
          },
          "metadata": {},
          "execution_count": 23
        }
      ]
    },
    {
      "cell_type": "code",
      "metadata": {
        "id": "J9m-7LC6NvzJ"
      },
      "source": [
        ""
      ],
      "execution_count": null,
      "outputs": []
    }
  ]
}